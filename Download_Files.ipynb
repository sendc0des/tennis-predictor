{
 "cells": [
  {
   "cell_type": "code",
   "execution_count": 1,
   "id": "255e86f0",
   "metadata": {},
   "outputs": [],
   "source": [
    "import os\n",
    "import requests"
   ]
  },
  {
   "cell_type": "code",
   "execution_count": 2,
   "id": "0cb28d16",
   "metadata": {},
   "outputs": [
    {
     "name": "stdout",
     "output_type": "stream",
     "text": [
      "Downloading 2000.csv...\n",
      "Saved to tennis_data\\2000.csv\n",
      "Downloading 2001.csv...\n",
      "Saved to tennis_data\\2001.csv\n",
      "Downloading 2002.csv...\n",
      "Saved to tennis_data\\2002.csv\n",
      "Downloading 2003.csv...\n",
      "Saved to tennis_data\\2003.csv\n",
      "Downloading 2004.csv...\n",
      "Saved to tennis_data\\2004.csv\n",
      "Downloading 2005.csv...\n",
      "Saved to tennis_data\\2005.csv\n",
      "Downloading 2006.csv...\n",
      "Saved to tennis_data\\2006.csv\n",
      "Downloading 2007.csv...\n",
      "Saved to tennis_data\\2007.csv\n",
      "Downloading 2008.csv...\n",
      "Saved to tennis_data\\2008.csv\n",
      "Downloading 2009.csv...\n",
      "Saved to tennis_data\\2009.csv\n",
      "Downloading 2010.csv...\n",
      "Saved to tennis_data\\2010.csv\n",
      "Downloading 2011.csv...\n",
      "Saved to tennis_data\\2011.csv\n",
      "Downloading 2012.csv...\n",
      "Saved to tennis_data\\2012.csv\n",
      "Downloading 2013.csv...\n",
      "Saved to tennis_data\\2013.csv\n",
      "Downloading 2014.csv...\n",
      "Saved to tennis_data\\2014.csv\n",
      "Downloading 2015.csv...\n",
      "Saved to tennis_data\\2015.csv\n",
      "Downloading 2016.csv...\n",
      "Saved to tennis_data\\2016.csv\n",
      "Downloading 2017.csv...\n",
      "Saved to tennis_data\\2017.csv\n",
      "Downloading 2018.csv...\n",
      "Saved to tennis_data\\2018.csv\n",
      "Downloading 2019.csv...\n",
      "Saved to tennis_data\\2019.csv\n",
      "Downloading 2020.csv...\n",
      "Saved to tennis_data\\2020.csv\n",
      "Downloading 2021.csv...\n",
      "Saved to tennis_data\\2021.csv\n",
      "Downloading 2022.csv...\n",
      "Saved to tennis_data\\2022.csv\n",
      "Downloading 2023.csv...\n",
      "Saved to tennis_data\\2023.csv\n",
      "Downloading 2024.csv...\n",
      "Saved to tennis_data\\2024.csv\n",
      "Downloading ATP_Database.csv...\n",
      "Saved to tennis_data\\ATP_Database.csv\n",
      "\n",
      "✅ All selected files downloaded!\n"
     ]
    }
   ],
   "source": [
    "DATA_DIR = \"tennis_data\"\n",
    "os.makedirs(DATA_DIR, exist_ok=True)\n",
    "\n",
    "BASE_URL = \"https://raw.githubusercontent.com/Tennismylife/TML-Database/refs/heads/master/\"\n",
    "\n",
    "files_to_download = []\n",
    "\n",
    "for year in range(2000, 2025):\n",
    "    files_to_download.append(f\"{year}.csv\")\n",
    "\n",
    "files_to_download.append(\"ATP_Database.csv\")\n",
    "\n",
    "for filename in files_to_download:\n",
    "    url = BASE_URL + filename\n",
    "    local_path = os.path.join(DATA_DIR, filename)\n",
    "    print(f\"Downloading {filename}...\")\n",
    "    response = requests.get(url)\n",
    "    if response.status_code == 200:\n",
    "        with open(local_path, \"wb\") as f:\n",
    "            f.write(response.content)\n",
    "        print(f\"Saved to {local_path}\")\n",
    "    else:\n",
    "        print(f\"⚠️ Failed to download {filename} (status {response.status_code})\")\n",
    "\n",
    "print(\"\\n✅ All selected files downloaded!\")"
   ]
  }
 ],
 "metadata": {
  "kernelspec": {
   "display_name": "Python 3",
   "language": "python",
   "name": "python3"
  },
  "language_info": {
   "codemirror_mode": {
    "name": "ipython",
    "version": 3
   },
   "file_extension": ".py",
   "mimetype": "text/x-python",
   "name": "python",
   "nbconvert_exporter": "python",
   "pygments_lexer": "ipython3",
   "version": "3.13.5"
  }
 },
 "nbformat": 4,
 "nbformat_minor": 5
}
